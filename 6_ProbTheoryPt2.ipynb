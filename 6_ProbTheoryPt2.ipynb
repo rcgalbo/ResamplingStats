{
 "cells": [
  {
   "cell_type": "markdown",
   "metadata": {},
   "source": [
    "## Probability Theory Pt.2: Compound Probability\n",
    "\n",
    "this chapter deals with classic 'probability problems'\n",
    "\n",
    "#### Puzzle problems\n",
    "\n",
    "treasure ship:\n",
    "\n",
    "\n",
    "\n",
    "1. Postulate three wrecked ships -- ship 1 with two gold chests (G-G), ship 2 with one gold one silver chest (G-S), and ship 3 with 2 silver chests (S-S)\n",
    "2. Assert equal probabilitie of each ship being found\n",
    "3. Step 2 implies equal probabilities for 6 chests to be found\n",
    "4. Fact: Diver finds a chest of gold\n",
    "    - we want to figure out the probability the other chest on the ship will be gold\n",
    "5. Step 4 implies that ship 3 wasnt found, and can be removed\n",
    "6. Three possibilities: 1) Diver found ship 1 chest a 2) Diver found ship 1 chest b 3) Diver found ship 2 chest 1\n",
    "    - since step 2 all three possibilities have equal probability\n",
    "7. If possibility is ship 1 chest a, then the other trunk is ship 1 chest b and vice versa; if possibility is ship 2 chest a, then the other chest is ship 2 chest b\n",
    "8. From steps 6 and 7: each outcome has a probability of 1/3 since there is no other outcome\n",
    "9. P(Gold) = P(ship 1 chest a) + P(ship 1 chest b) = 1/3 + 1/3 = 2/3\n",
    "    - since the only way we get gold in the second chest is if we found ship one we can add up the probabilities of finding ship 1 chest a or b\n",
    "\n",
    "Simulation\n",
    "\n",
    "1. three urns containing the number (0,0) (0,1) and (1,1) where 0='gold' and 1='silver'\n",
    "2. choose an urn at random\n",
    "3. choose an element without replacement if 1 stop trial, if 0 continue\n",
    "4. record the second element in the chosen urn\n",
    "5. repeat steps 2-5 and calculate the proportion of 0s (should be 2/3)"
   ]
  },
  {
   "cell_type": "code",
   "execution_count": 37,
   "metadata": {},
   "outputs": [
    {
     "data": {
      "text/plain": [
       "0.6382978723404256"
      ]
     },
     "execution_count": 37,
     "metadata": {},
     "output_type": "execute_result"
    }
   ],
   "source": [
    "import numpy as np\n",
    "np.random.seed(123)\n",
    "\n",
    "# create out ships\n",
    "ships = np.array([[0,0], [0,1], [1,1]])\n",
    "\n",
    "# randomly find a ship (many times)\n",
    "selections = np.random.randint(0,3,100)\n",
    "\n",
    "# randomly choose a chest on the ship, then the other chest\n",
    "finds = np.array([np.random.choice(ships[selection], 2, replace=False) for selection in selections])\n",
    "\n",
    "# remove all of the first found silver chests\n",
    "gold_chests = np.delete(finds, finds[:,0] == 1, axis=0)\n",
    "\n",
    "# find all the gold chests where the second chest is also gold\n",
    "# then divide by the remaining gold chests to get proportion\n",
    "sum(gold_chests[:,1] == 0) / len(gold_chests)"
   ]
  },
  {
   "cell_type": "markdown",
   "metadata": {},
   "source": [
    "We can see that we end up with 2/3 as we expected however I acknowledge this code is a little opaque. The tricky part of it is that we have 3 arrays and we need to draw a random element from that little array then take the other element. So my solution to this problem was to use a array of random numbers selected from {0,1,2} here I used 100 to work as my \"ship finder\" then I had to use `np.random.choice` on the selection from my ship finder. However there wasn't a good way to do this vectorized so I just put it into a list comprehension and converted that list back to an array. From here I deleted all the rows of the matrix where the first column was equal to 1 (where we found silver first). Then I only had a matrix where the first element was 0 so I just needed to count the rows where the second element was also 0 and divide that by the total remaining rows\n",
    "\n",
    "Three door problem (monty hall problem)\n",
    "\n",
    "The player faces three closed doors. One contans a prize and two are empty. After choosing a door one of the other doors is opend revealing that it is empty. The player is now given the opportunity of switching from their original choice to the other unopend door. What should the player do?\n",
    "\n",
    "_Answer_: Switching doors doubles the chance of winning the prize\n",
    "\n",
    "#### Examples of basic problems in probability\n",
    "\n",
    "A poker problem: one pair (two of a kind)\n",
    "\n",
    "What are the chances the first five cards chosen from the deck of 52 will contain two cards of the same denomination? We will only be using two of a kind (not 3 of a kind, 4 of a kind, or 2 pair)."
   ]
  },
  {
   "cell_type": "code",
   "execution_count": 43,
   "metadata": {},
   "outputs": [
    {
     "data": {
      "text/plain": [
       "array([ 0,  0,  0,  0,  1,  1,  1,  1,  2,  2,  2,  2,  3,  3,  3,  3,  4,\n",
       "        4,  4,  4,  5,  5,  5,  5,  6,  6,  6,  6,  7,  7,  7,  7,  8,  8,\n",
       "        8,  8,  9,  9,  9,  9, 10, 10, 10, 10, 11, 11, 11, 11, 12, 12, 12,\n",
       "       12])"
      ]
     },
     "execution_count": 43,
     "metadata": {},
     "output_type": "execute_result"
    }
   ],
   "source": [
    "# create a deck to sample from\n",
    "deck = np.repeat(list(range(13)) ,[4]*13)\n",
    "deck"
   ]
  },
  {
   "cell_type": "code",
   "execution_count": 53,
   "metadata": {},
   "outputs": [
    {
     "name": "stdout",
     "output_type": "stream",
     "text": [
      "shape of decks: (1000, 52)\n"
     ]
    },
    {
     "data": {
      "text/plain": [
       "array([[ 0,  0,  0, ..., 12, 12, 12],\n",
       "       [ 0,  0,  0, ..., 12, 12, 12],\n",
       "       [ 0,  0,  0, ..., 12, 12, 12],\n",
       "       ...,\n",
       "       [ 0,  0,  0, ..., 12, 12, 12],\n",
       "       [ 0,  0,  0, ..., 12, 12, 12],\n",
       "       [ 0,  0,  0, ..., 12, 12, 12]])"
      ]
     },
     "execution_count": 53,
     "metadata": {},
     "output_type": "execute_result"
    }
   ],
   "source": [
    "# create array of many decks to sample from\n",
    "decks = np.array([deck]*1000)\n",
    "print(f\"shape of decks: {decks.shape}\")\n",
    "decks"
   ]
  },
  {
   "cell_type": "markdown",
   "metadata": {},
   "source": [
    "below we are going to use a functional apply to select a random sample of 5 cards from each deck without replacemnent"
   ]
  },
  {
   "cell_type": "code",
   "execution_count": 61,
   "metadata": {},
   "outputs": [
    {
     "name": "stdout",
     "output_type": "stream",
     "text": [
      "shape of hands: (1000, 5)\n"
     ]
    },
    {
     "data": {
      "text/plain": [
       "array([[ 8, 11, 11,  3,  1],\n",
       "       [10,  6,  5,  5,  0],\n",
       "       [ 2,  7,  5,  4, 12],\n",
       "       ...,\n",
       "       [ 7,  2,  8,  0, 12],\n",
       "       [ 7,  6,  0,  1,  5],\n",
       "       [11,  0,  0,  3, 11]])"
      ]
     },
     "execution_count": 61,
     "metadata": {},
     "output_type": "execute_result"
    }
   ],
   "source": [
    "# now we're going to take a sample without replacement from each deck\n",
    "def sample_no_replacement(deck):\n",
    "    return np.random.choice(deck, 5, replace=False)\n",
    "\n",
    "hands = np.apply_along_axis(sample_no_replacement, 1, decks)\n",
    "print(f'shape of hands: {hands.shape}')\n",
    "hands"
   ]
  },
  {
   "cell_type": "code",
   "execution_count": 102,
   "metadata": {},
   "outputs": [
    {
     "data": {
      "text/plain": [
       "0.426"
      ]
     },
     "execution_count": 102,
     "metadata": {},
     "output_type": "execute_result"
    }
   ],
   "source": [
    "# figure out which hands are pairs and count them up\n",
    "from collections import Counter\n",
    "\n",
    "def is_pair(hand):\n",
    "    if Counter(Counter(hand).values()) == {1:3, 2:1}:\n",
    "        return True\n",
    "    return False\n",
    "\n",
    "sum(np.apply_along_axis(is_pair, 1, hands)) / 1000"
   ]
  },
  {
   "cell_type": "markdown",
   "metadata": {},
   "source": [
    "This is a little convaluted. To determine if a hand had a pair in it, I checked to see if the counter which counts number of distinct values. However I have to do that again to the values of the first counter and make sure I count one 2 and three 1s. 3 different numbers and 1 pair produce a True from the function above and a False otherwise\n",
    "\n",
    "Counter(1,2,3,4,4) -> {1:1, 2:1, 3:1, 4:2} -> Counter(1,1,1,2) -> {1:3, 2:1}\n",
    "\n",
    "But we do end up getting very close to the right value that is 42%\n",
    "\n",
    "~\n",
    "\n",
    "Another intro poker problem\n",
    "\n",
    "Which is more likely? two pairs or three of a kind\n",
    "\n",
    "This is a comparison problem instead of an estimation problem.\n",
    "\n",
    "We can use our draws from before and just estimate the frequencies of both from there. To identify the hand we need to first identify what the Counter(Counter()) frequencies would looklike\n",
    "\n",
    "For two pair {2:2, 1:1} and for three of a kind its {3:1, 1:2}"
   ]
  },
  {
   "cell_type": "code",
   "execution_count": 112,
   "metadata": {},
   "outputs": [
    {
     "data": {
      "text/plain": [
       "0.058"
      ]
     },
     "execution_count": 112,
     "metadata": {},
     "output_type": "execute_result"
    }
   ],
   "source": [
    "def is_two_pair(hand):\n",
    "    count = Counter(Counter(hand).values())\n",
    "    if count == {2:2, 1:1}:\n",
    "        return True\n",
    "    return False\n",
    "\n",
    "sum(np.apply_along_axis(is_two_pair, 1, hands)) / 1000"
   ]
  },
  {
   "cell_type": "code",
   "execution_count": 115,
   "metadata": {},
   "outputs": [
    {
     "data": {
      "text/plain": [
       "0.023"
      ]
     },
     "execution_count": 115,
     "metadata": {},
     "output_type": "execute_result"
    }
   ],
   "source": [
    "def is_three_kind(hand):\n",
    "    count = Counter(Counter(hand).values())\n",
    "    if count == {3:1, 1:2}:\n",
    "        return True\n",
    "    return False\n",
    "\n",
    "sum(np.apply_along_axis(is_three_kind, 1, hands)) / 1000"
   ]
  },
  {
   "cell_type": "markdown",
   "metadata": {},
   "source": [
    "#### the concepts of replacement and non-replacement\n",
    "\n",
    "if we replace, conditions don't change\n",
    "\n",
    "if we sample with replacement the sample draws remain independent of each other"
   ]
  }
 ],
 "metadata": {
  "interpreter": {
   "hash": "c1bb569c625d4b37cfbc8c3d908488d8a366196de984f18f88903c1517974552"
  },
  "kernelspec": {
   "display_name": "Python 3.8.10 64-bit ('venv': venv)",
   "language": "python",
   "name": "python3"
  },
  "language_info": {
   "codemirror_mode": {
    "name": "ipython",
    "version": 3
   },
   "file_extension": ".py",
   "mimetype": "text/x-python",
   "name": "python",
   "nbconvert_exporter": "python",
   "pygments_lexer": "ipython3",
   "version": "3.8.10"
  },
  "orig_nbformat": 4
 },
 "nbformat": 4,
 "nbformat_minor": 2
}
