{
 "cells": [
  {
   "cell_type": "markdown",
   "metadata": {},
   "source": [
    "## Probability Theory Pt.3\n",
    "\n",
    "#### example: The birthday problem\n",
    "\n",
    "What is the probability that 2 or more people in a room of 25 people will have the same birthday?\n",
    "\n",
    "Simulate:\n",
    "\n",
    "1. let 0 to 364 stand for days in the year\n",
    "2. draw 25 with replacement and record 'yes' if there is one or more duplicate, otherwise record 'no'\n",
    "3. repeat this 1000 times calculate the proportion of duplicates"
   ]
  },
  {
   "cell_type": "code",
   "execution_count": 3,
   "metadata": {},
   "outputs": [
    {
     "data": {
      "text/plain": [
       "array([  0,   1,   2,   3,   4,   5,   6,   7,   8,   9,  10,  11,  12,\n",
       "        13,  14,  15,  16,  17,  18,  19,  20,  21,  22,  23,  24,  25,\n",
       "        26,  27,  28,  29,  30,  31,  32,  33,  34,  35,  36,  37,  38,\n",
       "        39,  40,  41,  42,  43,  44,  45,  46,  47,  48,  49,  50,  51,\n",
       "        52,  53,  54,  55,  56,  57,  58,  59,  60,  61,  62,  63,  64,\n",
       "        65,  66,  67,  68,  69,  70,  71,  72,  73,  74,  75,  76,  77,\n",
       "        78,  79,  80,  81,  82,  83,  84,  85,  86,  87,  88,  89,  90,\n",
       "        91,  92,  93,  94,  95,  96,  97,  98,  99, 100, 101, 102, 103,\n",
       "       104, 105, 106, 107, 108, 109, 110, 111, 112, 113, 114, 115, 116,\n",
       "       117, 118, 119, 120, 121, 122, 123, 124, 125, 126, 127, 128, 129,\n",
       "       130, 131, 132, 133, 134, 135, 136, 137, 138, 139, 140, 141, 142,\n",
       "       143, 144, 145, 146, 147, 148, 149, 150, 151, 152, 153, 154, 155,\n",
       "       156, 157, 158, 159, 160, 161, 162, 163, 164, 165, 166, 167, 168,\n",
       "       169, 170, 171, 172, 173, 174, 175, 176, 177, 178, 179, 180, 181,\n",
       "       182, 183, 184, 185, 186, 187, 188, 189, 190, 191, 192, 193, 194,\n",
       "       195, 196, 197, 198, 199, 200, 201, 202, 203, 204, 205, 206, 207,\n",
       "       208, 209, 210, 211, 212, 213, 214, 215, 216, 217, 218, 219, 220,\n",
       "       221, 222, 223, 224, 225, 226, 227, 228, 229, 230, 231, 232, 233,\n",
       "       234, 235, 236, 237, 238, 239, 240, 241, 242, 243, 244, 245, 246,\n",
       "       247, 248, 249, 250, 251, 252, 253, 254, 255, 256, 257, 258, 259,\n",
       "       260, 261, 262, 263, 264, 265, 266, 267, 268, 269, 270, 271, 272,\n",
       "       273, 274, 275, 276, 277, 278, 279, 280, 281, 282, 283, 284, 285,\n",
       "       286, 287, 288, 289, 290, 291, 292, 293, 294, 295, 296, 297, 298,\n",
       "       299, 300, 301, 302, 303, 304, 305, 306, 307, 308, 309, 310, 311,\n",
       "       312, 313, 314, 315, 316, 317, 318, 319, 320, 321, 322, 323, 324,\n",
       "       325, 326, 327, 328, 329, 330, 331, 332, 333, 334, 335, 336, 337,\n",
       "       338, 339, 340, 341, 342, 343, 344, 345, 346, 347, 348, 349, 350,\n",
       "       351, 352, 353, 354, 355, 356, 357, 358, 359, 360, 361, 362, 363,\n",
       "       364])"
      ]
     },
     "execution_count": 3,
     "metadata": {},
     "output_type": "execute_result"
    }
   ],
   "source": [
    "import numpy as np\n",
    "np.random.seed(123)\n",
    "\n",
    "# create array of days to draw from\n",
    "days = np.array(range(365))\n",
    "days"
   ]
  },
  {
   "cell_type": "code",
   "execution_count": 4,
   "metadata": {},
   "outputs": [
    {
     "data": {
      "text/plain": [
       "array([[  0,   1,   2, ..., 362, 363, 364],\n",
       "       [  0,   1,   2, ..., 362, 363, 364],\n",
       "       [  0,   1,   2, ..., 362, 363, 364],\n",
       "       ...,\n",
       "       [  0,   1,   2, ..., 362, 363, 364],\n",
       "       [  0,   1,   2, ..., 362, 363, 364],\n",
       "       [  0,   1,   2, ..., 362, 363, 364]])"
      ]
     },
     "execution_count": 4,
     "metadata": {},
     "output_type": "execute_result"
    }
   ],
   "source": [
    "# like our deck creation lets create 1000 years to take samples from\n",
    "years = np.array([days] * 1000)\n",
    "years"
   ]
  },
  {
   "cell_type": "code",
   "execution_count": 5,
   "metadata": {},
   "outputs": [
    {
     "data": {
      "text/plain": [
       "0.594"
      ]
     },
     "execution_count": 5,
     "metadata": {},
     "output_type": "execute_result"
    }
   ],
   "source": [
    "from collections import Counter\n",
    "\n",
    "# take 1000 samples of 25 birthdays\n",
    "def sample_birthdays(year):\n",
    "    return np.random.choice(year, 25, replace=True)\n",
    "\n",
    "birthdays = np.apply_along_axis(sample_birthdays, 1, years)\n",
    "\n",
    "# count the rows with 2 or more same birthdays\n",
    "def has_duplicate(birthday):\n",
    "    counts = Counter(birthday).values()\n",
    "    if len(set(counts)) > 1:\n",
    "        return True\n",
    "    return False\n",
    "\n",
    "sum(np.apply_along_axis(has_duplicate, 1, birthdays)) / 1000"
   ]
  },
  {
   "cell_type": "markdown",
   "metadata": {},
   "source": [
    "#### example: three daughters among four children\n",
    "\n",
    "What is the probability that exactly three of the four children in a four child family are daughters?\n",
    "\n",
    "1. Using coins let 'heads' be boy and 'tails' be girl\n",
    "2. throw four coins\n",
    "3. if there are exactly three tails record 'yes' else record 'no'\n",
    "4. repeat step 2 two hundred times\n",
    "5. count the proportion 'yes'"
   ]
  },
  {
   "cell_type": "code",
   "execution_count": 13,
   "metadata": {},
   "outputs": [
    {
     "data": {
      "text/plain": [
       "0.27"
      ]
     },
     "execution_count": 13,
     "metadata": {},
     "output_type": "execute_result"
    }
   ],
   "source": [
    "from collections import Counter\n",
    "\n",
    "# 0 is heads, 1 is tails\n",
    "coin = np.array([0,1])\n",
    "\n",
    "# choose head/tail four times then repeat that 200 times\n",
    "births = np.array([[np.random.choice(coin) for _ in range(4)] for _ in range(200)])\n",
    "\n",
    "# return True if tails(\"1\") count is == 3\n",
    "def has_three_girls(birth):\n",
    "    if Counter(birth)[1] == 3:\n",
    "        return True\n",
    "    return False\n",
    "\n",
    "sum(np.apply_along_axis(has_three_girls, 1, births)) / 200"
   ]
  },
  {
   "cell_type": "markdown",
   "metadata": {},
   "source": [
    "If we are to take into account the biological fact that more males are born than females 52:48 will slightly change our experiment.\n",
    "\n",
    "Well add a weighted coin that comes up heads 52% of the time and tails 48% of the time"
   ]
  },
  {
   "cell_type": "code",
   "execution_count": 14,
   "metadata": {},
   "outputs": [
    {
     "data": {
      "text/plain": [
       "0.305"
      ]
     },
     "execution_count": 14,
     "metadata": {},
     "output_type": "execute_result"
    }
   ],
   "source": [
    "# now create a coin with 52% chance heads(\"0\")\n",
    "# and 48% tails(\"1\")\n",
    "choices = np.array([0,1])\n",
    "weighted_coin = np.repeat(choices, [52,48])\n",
    "\n",
    "# choose head/tail four times then repeat that 200 times\n",
    "births = np.array([[np.random.choice(weighted_coin) for _ in range(4)] for _ in range(200)])\n",
    "\n",
    "# return True if tails(\"1\") count is == 3\n",
    "def has_three_girls(birth):\n",
    "    if Counter(birth)[1] == 3:\n",
    "        return True\n",
    "    return False\n",
    "\n",
    "sum(np.apply_along_axis(has_three_girls, 1, births)) / 200"
   ]
  },
  {
   "cell_type": "markdown",
   "metadata": {},
   "source": [
    "#### Binomial trials\n",
    "\n",
    "three daughters four births problem is known as \"binomial sampling experiment\". fundamental property of binomial processes is the independence of the trials. Equaly likely outcomes mean we assume that the probability of girl or boy is the same.\n",
    "\n",
    "#### example: three or more basketball shots in five attempts\n",
    "\n",
    "What is the probability a basketball player will score three or more baskets in 5 shots if they succeed on average 25% of the time?\n",
    "\n",
    "Here the probability of success isn't 50-50. So we can't just use our coin example\n",
    "\n",
    "1. Let 'spade' stand for success and all the other suits stand for miss\n",
    "2. Draw a card, record it's suit and replace it. repeat 5 times\n",
    "3. Record if step 2 was three or more\n",
    "4. Repeat steps 2-4 400 times\n",
    "5. Count proportions yes out of 400 throws\n",
    "\n",
    "Below we are going to be using a similar method that we used for the weighted coinflip above"
   ]
  },
  {
   "cell_type": "code",
   "execution_count": 15,
   "metadata": {},
   "outputs": [
    {
     "data": {
      "text/plain": [
       "0.115"
      ]
     },
     "execution_count": 15,
     "metadata": {},
     "output_type": "execute_result"
    }
   ],
   "source": [
    "# create an array with 75 0s and 25 1s\n",
    "choices = np.array([0,1])\n",
    "shot_probability = np.repeat(choices, [75,25])\n",
    "\n",
    "# create our array of shots (400,5) chosen from our shot_probability array\n",
    "shots = np.array([[np.random.choice(shot_probability) for _ in range(5)] for _ in range(400)])\n",
    "\n",
    "num_scores = np.sum(shots, axis=1)\n",
    "\n",
    "sum(num_scores >= 3) / 400\n"
   ]
  },
  {
   "cell_type": "markdown",
   "metadata": {},
   "source": [
    "#### example: one in the black(bullseye), two in the white, and no misses in three archery shots\n",
    "\n",
    "1. let 1=bullseye 2-7=in the white and 8-10=miss\n",
    "2. choose three random numbers and examine wheter ther is one '1' two numbers '2-7' if so record 'yes' else 'no'\n",
    "3. Repeat step 2 perhaps 400 times\n",
    "\n",
    "traditionally this would be handled with the Multinomial Distribution"
   ]
  },
  {
   "cell_type": "code",
   "execution_count": 16,
   "metadata": {},
   "outputs": [
    {
     "data": {
      "text/plain": [
       "array([[8, 8, 8],\n",
       "       [9, 2, 1],\n",
       "       [5, 1, 7],\n",
       "       ...,\n",
       "       [4, 2, 4],\n",
       "       [9, 4, 1],\n",
       "       [3, 8, 1]])"
      ]
     },
     "execution_count": 16,
     "metadata": {},
     "output_type": "execute_result"
    }
   ],
   "source": [
    "choices = [1,2,3,4,5,6,7,8,9,10]\n",
    "\n",
    "shots = np.array([[np.random.choice(choices) for _ in range(3)] for i in range(400)])\n",
    "shots"
   ]
  },
  {
   "cell_type": "code",
   "execution_count": 17,
   "metadata": {},
   "outputs": [
    {
     "data": {
      "text/plain": [
       "0.09"
      ]
     },
     "execution_count": 17,
     "metadata": {},
     "output_type": "execute_result"
    }
   ],
   "source": [
    "# if there was one bullseye check\n",
    "# to see if the other numbers are in [8,9,10]\n",
    "# if they all aren't return True\n",
    "def one_black_two_white(shot):\n",
    "    if Counter(shot)[1] == 1:\n",
    "        if sum([i in shot for i in [8,9,10]]) == 0:\n",
    "            return True\n",
    "    return False\n",
    "    \n",
    "bull_two_hits = np.apply_along_axis(one_black_two_white, 1, shots)\n",
    "\n",
    "sum(bull_two_hits) / 400"
   ]
  },
  {
   "cell_type": "markdown",
   "metadata": {},
   "source": [
    "#### example: two groups of heart patients\n",
    "\n",
    "want to learn how likely it is that group A would have as little as two deaths more than group B\n",
    "\n",
    "~ | Live | Die\n",
    "------|------|----\n",
    "Group A | 79 | 11\n",
    "Group B | 21 | 9\n",
    "\n",
    "this problem is the prototype of a problem we will consider later (chi square distribution)\n",
    "\n",
    "1. put 120 balls in urn, 100 white (live) and 20 black (die)\n",
    "2. Draw 30 balls and assign them to group B; assign the rest to group A\n",
    "4. Count the number of black balls in the two groups and determine Group A's excess 'deaths' (black balls) compared to group B is two or fewer (eqivalent to whether there are 11 or fewer black balls in group A)\n",
    "    - repeat 1000 times and compute proporion yes"
   ]
  },
  {
   "cell_type": "code",
   "execution_count": 18,
   "metadata": {},
   "outputs": [],
   "source": [
    "# 0 live 1 die\n",
    "choices = [0,1]\n",
    "patients = np.repeat(choices,[100,20])\n",
    "# shuffle since we are sampling by index\n",
    "np.random.shuffle(patients)\n",
    "\n",
    "groupAsums = []\n",
    "for i in range(1000):\n",
    "    indexes = list(range(120))\n",
    "    groupBind = np.random.choice(indexes, 30, replace=False)\n",
    "    groupB = patients[groupBind]\n",
    "    groupA = np.delete(patients, groupBind)\n",
    "    groupAsums.append(sum(groupA))"
   ]
  },
  {
   "cell_type": "code",
   "execution_count": 19,
   "metadata": {},
   "outputs": [
    {
     "data": {
      "text/plain": [
       "0.024"
      ]
     },
     "execution_count": 19,
     "metadata": {},
     "output_type": "execute_result"
    }
   ],
   "source": [
    "sum(np.array(groupAsums) <= 11) / 1000"
   ]
  },
  {
   "cell_type": "markdown",
   "metadata": {},
   "source": [
    "#### example: dispersion of a sum if random variables - hammer lengths - heads and handles\n",
    "\n",
    "The distribution of lengths for hammer handles is as follows: 20% are 10 inches, 30% are 10.1 inches, 30% are 10.2, 20% are 10.3 inches\n",
    "\n",
    "The distribution of lengths for hammer heads is a s follows: 20% 2 inches, 20% 2.1 inches, 30% 2.2 inches, 20% 2.3 inches, 10% 2.4 inches\n",
    "\n",
    "What proportion of heads and handles drawn at random will be equal or longer than 12.4 inches?\n",
    "\n",
    "\n",
    "1. fill an urn with 2 balls marked 10 in, 3 balls marked 10.1 inches, 3 balls marked 10.2 inches and 2 marked 10.3 inches. fill another urn with 2 balls marked 2 inches, 2 balls marked 2.1 inches, 3 balls marked 2.2 inches, 2 balls marked 2.3 inches and 1 ball marked 2.4 inches\n",
    "2. pick a ball from each urn and calulate the sum\n",
    "3. repeat 200 times and calculate the proportion greater or equal to 12.4 inches?"
   ]
  },
  {
   "cell_type": "code",
   "execution_count": 21,
   "metadata": {},
   "outputs": [
    {
     "data": {
      "text/plain": [
       "0.295"
      ]
     },
     "execution_count": 21,
     "metadata": {},
     "output_type": "execute_result"
    }
   ],
   "source": [
    "handles = [10,10,10.1,10.1,10.1,10.2,10.2,10.2,10.3,10.3]\n",
    "heads = [2,2,2.1,2.1,2.2,2.2,2.2,2.3,2.3,2.4]\n",
    "\n",
    "hammer_lengths = np.array([np.random.choice(handles) + np.random.choice(heads) for _ in range(200)])\n",
    "sum(hammer_lengths >= 12.4) / 200"
   ]
  },
  {
   "cell_type": "markdown",
   "metadata": {},
   "source": [
    "#### example: flipping pennies to the end\n",
    "\n",
    "two players each with 10 pennies. A coin is tossed if it's heads player A gives player B a penny. If it is tails player B gives player A a penny. What is the probability one player will loose all his pennies if they play for 200 tosses?\n",
    "\n",
    "1. 1-5 = 'head' = +1 ; 6-10 = 'tail' = -1\n",
    "2. proceed down a series of 200, keeping a running tally of the '+1' and the '-1'. if the tally reaches +10 or -10 on or before the two hundreth flip, record yes else no\n",
    "3. repeat step 2 400 times and calculate the proportion 'yes'\n"
   ]
  },
  {
   "cell_type": "code",
   "execution_count": 22,
   "metadata": {},
   "outputs": [
    {
     "data": {
      "text/plain": [
       "8.3"
      ]
     },
     "execution_count": 22,
     "metadata": {},
     "output_type": "execute_result"
    }
   ],
   "source": [
    "coin = [0,1]\n",
    "games = []\n",
    "for _ in range(400):\n",
    "    playerA = 10\n",
    "    playerB = 10\n",
    "\n",
    "    flips = [np.random.choice(coin) for _ in range(200)]\n",
    "    for flip in flips:\n",
    "        if flip == 0:\n",
    "            playerA -= 1\n",
    "            playerB += 1\n",
    "        elif flip == 1:\n",
    "            playerB -= 1\n",
    "            playerA += 1\n",
    "        \n",
    "        if playerA == 0 or playerB == 0:\n",
    "            games.append(True)\n",
    "    games.append(False)\n",
    "\n",
    "# calculate the proportion of games someone lost their pennies\n",
    "sum(np.array(games)) / 400"
   ]
  },
  {
   "cell_type": "markdown",
   "metadata": {},
   "source": [
    "#### example: state liquor store problem\n",
    "\n",
    "[idk see text for this one]\n",
    "\n",
    "1. write 42 prices on a card and shuffle\n",
    "2. draw cards randomly with replacement into groups of 16 and 26 cards. calculate the mean price difference between the groups and compare the simulation trial difference to the observed mean difference of $.49. if it is greater record 'yes' else 'no'\n",
    "3. repeat step 2 1000 times calculate proportion 'yes'"
   ]
  },
  {
   "cell_type": "code",
   "execution_count": 23,
   "metadata": {},
   "outputs": [
    {
     "data": {
      "text/plain": [
       "0.438"
      ]
     },
     "execution_count": 23,
     "metadata": {},
     "output_type": "execute_result"
    }
   ],
   "source": [
    "price_differences = np.array([np.mean(np.random.randint(100,150,26)) - np.mean(np.random.randint(100,150,26)) for _ in range(1000)])\n",
    "sum(price_differences >= 0.49) / 1000"
   ]
  }
 ],
 "metadata": {
  "interpreter": {
   "hash": "c1bb569c625d4b37cfbc8c3d908488d8a366196de984f18f88903c1517974552"
  },
  "kernelspec": {
   "display_name": "Python 3.8.10 64-bit ('venv': venv)",
   "language": "python",
   "name": "python3"
  },
  "language_info": {
   "codemirror_mode": {
    "name": "ipython",
    "version": 3
   },
   "file_extension": ".py",
   "mimetype": "text/x-python",
   "name": "python",
   "nbconvert_exporter": "python",
   "pygments_lexer": "ipython3",
   "version": "3.8.10"
  },
  "orig_nbformat": 4
 },
 "nbformat": 4,
 "nbformat_minor": 2
}
