{
 "cells": [
  {
   "cell_type": "markdown",
   "metadata": {},
   "source": [
    "## Basic Concepts in Probability and Statitics Pt. 2\n",
    "\n",
    "#### The relationship of probability to other magnitudes\n",
    "\n",
    "Probabilities aren't special on their own, they mostly serve as weights for other values\n",
    "\n",
    "Uncertain statements are pretty much equivalent to probability statements\n",
    "\n",
    "#### The concept of chance\n",
    "\n",
    "Uncertainty refers to your knowledge rather than the event itself [see spoon flipping demonstration p.44]\n",
    "\n",
    "Terms random and chance implicitly mean that you don't belive that you can know in advance what will happen\n",
    "\n",
    "_\"Chance\"_ can be thought to sand for all the small factors that unknowlingly influence the outcome\n",
    "\n",
    "#### What Do We Mean by \"Chance\"\n",
    "\n",
    "_\"Chance\"_ is the abscence of predictive power \n",
    "\n",
    "#### The philosophers' dispute about the concept of probability\n",
    "\n",
    "There are disputest between baysians and frequentists about probability but both of there methodologies are just taking two different paths to arrive at very similar end point\n",
    "\n",
    "#### The relationship of porbability to resampling\n",
    "\n",
    "There is no all-agreed definition of resampling statistics\n",
    "\n",
    "[see p.50 for a bunch of exaples of probability vs statistics problems]"
   ]
  },
  {
   "cell_type": "markdown",
   "metadata": {},
   "source": []
  }
 ],
 "metadata": {
  "language_info": {
   "name": "python"
  },
  "orig_nbformat": 4
 },
 "nbformat": 4,
 "nbformat_minor": 2
}
