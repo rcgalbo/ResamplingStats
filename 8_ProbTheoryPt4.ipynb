{
 "cells": [
  {
   "cell_type": "markdown",
   "metadata": {},
   "source": [
    "## Probability Theory Pt.4: Estimating Probabilities from Finite Universes\n",
    "\n",
    "Now we are concerned with situations in which you will be given a finite set of objects. Sampling without replacement occurs when items are chose from a finite universe.\n",
    "\n",
    "#### Building block problems\n",
    "\n",
    "case 1: six balls labeled between 1-6. What is the probability of choosing balls 1,2,3 in that order if we choose three balls without replacement?\n",
    "\n",
    "P(123) = 1/6 * 1/5 * 1/4 = 1/120\n",
    "\n",
    "[see book for diagrams]\n",
    "\n",
    "case 2: same setup as case 1 but now ask the probability of choosing 1,2,3 in any order if we choose three balls without replacement? \n",
    "\n",
    "P(123 any order) = 3/6 * 2/6 * 1/6 = 6/216 = 1/36\n",
    "\n",
    "case 3: odd number balls 1,3,5 are painted red and even numbered balls 2,4,6 are painted black. what is the probability of getting a red ball then a black ball in that order?\n",
    "\n",
    "P(red then black) = 3/6 * 3/5 = 9/30\n",
    "\n",
    "case 4: What is the probability of getting two red balls and one black ball in any order?\n",
    "\n",
    "P(2 red 1 black) = 3/6 * 2/5 * 3/4\n",
    "\n",
    "case 5: probability of getting ball one on the first draw or ball two on the second draw or ball three on the third draw?\n",
    "\n",
    "#### example: what is the probability of selecting four girls and one boy when selecting five students from twenty five girls and twenty five boys?\n",
    "\n",
    "(sampling without replacement with two outcomes when order doesn't matter)\n",
    "\n",
    "1. let 0-25 = girls, 26-50 = boys\n",
    "2. select five non-duplicate numbers. count whether there are 4 numbers 0-25 and one number 26-50 if so record 'yes' else record 'no'\n",
    "3. repeat step 2 400 times and count proportion yes\n",
    "\n",
    "below I actuall think we're gonna do this using 25 0s and 25 1s because I think the code for confirmation will be a bit simpler"
   ]
  },
  {
   "cell_type": "code",
   "execution_count": 3,
   "metadata": {},
   "outputs": [
    {
     "data": {
      "text/plain": [
       "0.165"
      ]
     },
     "execution_count": 3,
     "metadata": {},
     "output_type": "execute_result"
    }
   ],
   "source": [
    "import numpy as np\n",
    "from collections import Counter\n",
    "np.random.seed(123)\n",
    "\n",
    "# 0=girl 1=boy\n",
    "kids = np.repeat([0,1], [25,25])\n",
    "\n",
    "# sample 5 without replacement 400 times\n",
    "selections = np.array([np.random.choice(kids, 5, replace=False) for i in range(400)])\n",
    "\n",
    "def four_girls_one_boy(selection):\n",
    "    if Counter(selection) == {0:4, 1:1}:\n",
    "        return True\n",
    "    return False\n",
    "\n",
    "results = np.apply_along_axis(four_girls_one_boy, 1, selections)\n",
    "sum(results) / 400"
   ]
  },
  {
   "cell_type": "markdown",
   "metadata": {},
   "source": [
    "#### example: nine spades and four clubs in bridge hand\n",
    "\n",
    "(multiple outcome sampling without replacement order doesn't matter)\n",
    "\n"
   ]
  },
  {
   "cell_type": "code",
   "execution_count": 26,
   "metadata": {},
   "outputs": [
    {
     "data": {
      "text/plain": [
       "0.0"
      ]
     },
     "execution_count": 26,
     "metadata": {},
     "output_type": "execute_result"
    }
   ],
   "source": [
    "# 0 = spade, 1 = clubs\n",
    "deck = np.repeat([0,1,2,3], [13]*4)\n",
    "\n",
    "hands = np.array([np.random.choice(deck, 13, replace=False) for _ in range(1000)])\n",
    "\n",
    "def nine_spades_four_clubs(hand):\n",
    "    if Counter(hand) == {0:9,1:4}:\n",
    "        return True\n",
    "    return False\n",
    "\n",
    "total_hands = sum(np.apply_along_axis(nine_spades_four_clubs, 1, hands))\n",
    "\n",
    "total_hands / 1000"
   ]
  },
  {
   "cell_type": "markdown",
   "metadata": {},
   "source": [
    "#### example: A total of fifteen points in a bridge hand\n",
    "\n",
    "where A = 4, K = 3, Q = 2, J = 1\n",
    "\n",
    "now we actually have to use a real deck"
   ]
  },
  {
   "cell_type": "code",
   "execution_count": 38,
   "metadata": {},
   "outputs": [
    {
     "data": {
      "text/plain": [
       "0.034"
      ]
     },
     "execution_count": 38,
     "metadata": {},
     "output_type": "execute_result"
    }
   ],
   "source": [
    "deck = np.array([x for x in range(1,14)] * 4)\n",
    "\n",
    "hands = [np.random.choice(deck, 13, replace=False) for _ in range(1000)]\n",
    "\n",
    "def points(hand):\n",
    "    count = Counter(hand)\n",
    "    return count[13] * 4 + count[12] * 3 + count[11] * 2 + count[10] \n",
    "\n",
    "points = np.apply_along_axis(points, 1, hands)\n",
    "\n",
    "sum(points == 15) / 1000"
   ]
  },
  {
   "cell_type": "markdown",
   "metadata": {},
   "source": [
    "#### example: four girls then one boy from 25 girls and 25 boys order matters\n",
    "\n",
    "sampling without replacement\n",
    "\n",
    "1. Let [0] 25 times for girls and [1] 25 times for boys\n",
    "2. sample 5 students from the group. if series == [0,0,0,0,1] record 'yes' else record 'no'\n",
    "3. repeat step 2 1000 times count proportion 'yes'"
   ]
  },
  {
   "cell_type": "code",
   "execution_count": 46,
   "metadata": {},
   "outputs": [
    {
     "data": {
      "text/plain": [
       "0.154"
      ]
     },
     "execution_count": 46,
     "metadata": {},
     "output_type": "execute_result"
    }
   ],
   "source": [
    "kids = np.repeat([0,1],[25,25])\n",
    "\n",
    "selections = np.array([np.random.choice(kids, 5, replace=False) for _ in range(1000)])\n",
    "\n",
    "four_girls_one_guy = lambda sample: sample == [0,0,0,0,1]\n",
    "\n",
    "results = np.apply_along_axis(four_girls_one_boy, 1, selections)\n",
    "\n",
    "sum(results) / 1000"
   ]
  },
  {
   "cell_type": "markdown",
   "metadata": {},
   "source": [
    "#### example: Four or more couples getting their own partners when ten couples are paired randomly\n",
    "\n",
    "Ten couples come to a party. The host pairs them at random for the first dance. What is the chance that four or more couples will get the partners they came with?\n",
    "\n",
    "This one uses a card example but I don't think well use cards for our simulation\n",
    "\n",
    "1. A-10 of hearts be first partners, A-10 spades be other partners\n",
    "2. shuffle the hearts and deal then in a row; shuffle the spades and deal them in a row\n",
    "3. count the pairs - pair is one card from the hard row one card from the spade row that contain the same denomination. if 4 or more pairs match record 'yes', else record 'no'\n",
    "4. Repeat steps 2 & 3 200 times\n",
    "5. Count proportion of 'yes'"
   ]
  },
  {
   "cell_type": "code",
   "execution_count": 73,
   "metadata": {},
   "outputs": [],
   "source": [
    "partners1 = np.arange(10)\n",
    "partners2 = np.arange(10)\n",
    "\n",
    "pairs = []\n",
    "for i in range(200):\n",
    "    # draw from partners\n",
    "    p1 = np.random.choice(partners1, 10, replace=False)\n",
    "    p2 = np.random.choice(partners2, 10, replace=False)\n",
    "    # add partner pairs to array\n",
    "    pairs.append([p1, p2])\n",
    "\n",
    "pairs = np.array(pairs)"
   ]
  },
  {
   "cell_type": "code",
   "execution_count": 77,
   "metadata": {},
   "outputs": [
    {
     "data": {
      "text/plain": [
       "0.01"
      ]
     },
     "execution_count": 77,
     "metadata": {},
     "output_type": "execute_result"
    }
   ],
   "source": [
    "# add up the number of couples that are the same\n",
    "sum_pairs = lambda couples: sum(couples[0] == couples[1])\n",
    "\n",
    "n_matched_couples = []\n",
    "for pairing in pairs:\n",
    "    n_matched_couples.append(sum_pairs(pairing))\n",
    "\n",
    "sum(np.array(n_matched_couples) >= 4) / 200"
   ]
  },
  {
   "cell_type": "markdown",
   "metadata": {},
   "source": [
    "#### example: matching hats another famous problem\n",
    "\n",
    "The hat checker at a restaurant mixes up the hats of a party of 6 men. What is the probability that at least one will get his own hat?\n",
    "\n",
    "Same problem just hats instead of couples."
   ]
  },
  {
   "cell_type": "code",
   "execution_count": 98,
   "metadata": {},
   "outputs": [
    {
     "data": {
      "text/plain": [
       "0.648"
      ]
     },
     "execution_count": 98,
     "metadata": {},
     "output_type": "execute_result"
    }
   ],
   "source": [
    "men = np.arange(6)\n",
    "hats = np.arange(6)\n",
    "\n",
    "hat_pairings = np.array([(np.random.choice(men,6,replace=False), np.random.choice(hats,6,replace=False)) for _ in range(1000)])\n",
    "\n",
    "matches = np.apply_along_axis(lambda pair: pair[0] == pair[1], 1, hat_pairings)\n",
    "num_matches = matches.sum(1)\n",
    "\n",
    "sum(num_matches >= 1) / 1000"
   ]
  },
  {
   "cell_type": "markdown",
   "metadata": {},
   "source": [
    "#### example: twenty executives are to be assigned to two divisions of a firm\n",
    "\n",
    "What are the probabilities of best 10 executives of the twenty being split among two divisions in ratios of 5 and 5, 4 and 6, 3 and 7, ect. if they are randomly assigned\n",
    "\n",
    "1. Put 10 balls labeld 'w' for worst 10 balls labeled 'b' for best in an urn\n",
    "2. Draw 10 balls without replacement and count 'w's\n",
    "3. Repeat 400 times\n",
    "4. Count the number of times each split occurs"
   ]
  },
  {
   "cell_type": "code",
   "execution_count": 102,
   "metadata": {},
   "outputs": [
    {
     "data": {
      "text/plain": [
       "(array([  1,   8,  34, 114, 128,  84,  29,   2,   0]),\n",
       " array([ 1,  2,  3,  4,  5,  6,  7,  8,  9, 10]))"
      ]
     },
     "execution_count": 102,
     "metadata": {},
     "output_type": "execute_result"
    }
   ],
   "source": [
    "executives = np.repeat([0,1], [10,10])\n",
    "\n",
    "splits = np.array([np.random.choice(executives, 10, replace=False) for _ in range(400)])\n",
    "\n",
    "np.histogram(splits.sum(1), bins=[1,2,3,4,5,6,7,8,9,10])"
   ]
  },
  {
   "cell_type": "markdown",
   "metadata": {},
   "source": [
    "#### example: executives moving\n",
    "\n",
    "Chain moves its store managers to new cities every three years. New locations are drawn at random. Allowed to draw the location that they are currently in. What are the probabilities that 1,2,3... will get their present post again if there are 30 managers?\n",
    "\n",
    "1. number balls 1-30 and put them in urn A randomly. number balls 1-30 and put them in urn B.\n",
    "2. draw a row of 10 balls from urn A, next to that draw a row of 10 balls from urn B\n",
    "3. count how many of the pairs have the same number\n",
    "4. repeat 2 & 3 1000 times then count in the scoreboard numbers 0, 1, 2, 3"
   ]
  },
  {
   "cell_type": "code",
   "execution_count": 107,
   "metadata": {},
   "outputs": [
    {
     "data": {
      "text/plain": [
       "Counter({4: 14, 1: 363, 2: 180, 0: 377, 3: 62, 5: 3, 6: 1})"
      ]
     },
     "execution_count": 107,
     "metadata": {},
     "output_type": "execute_result"
    }
   ],
   "source": [
    "executives = np.arange(30)\n",
    "locations = np.arange(30)\n",
    "\n",
    "same_place = []\n",
    "for _ in range(1000):\n",
    "    num_same = sum(np.random.choice(executives, 30, replace=False) == np.random.choice(locations, 30, replace=False))\n",
    "    same_place.append(num_same)\n",
    "\n",
    "Counter(same_place)"
   ]
  },
  {
   "cell_type": "markdown",
   "metadata": {},
   "source": [
    "#### example: state liquor systems again\n",
    "\n",
    "26 private-ownership states: $4.82, $5.29, $4.89, $4.95, $4.55, $4.90,\n",
    "$5.25, $5.30, $4.29, $4.85, $4.54, $4.75, $4.85, $4.85, $4.50, $4.75,\n",
    "$4.79, $4.85, $4.79, $4.95, $4.95, $4.75, $5.20, $5.10, $4.80, $4.29\n",
    "\n",
    "16 monopoly states: $4.65, $4.55, $4.11, $4.15, $4.20, $4.55, $3.80,\n",
    "$4.00, $4.19, $4.75, $4.74, $4.50, $4.10, $4.00, $5.05, $4.20\n",
    "\n",
    "1. write each of the 42 prices on a card\n",
    "2. draw cardsa randomly with out replacement into groups of 16 and 26 cards. compute the mean price difference between the groups. compare the simulation trial difference to the observed difference of $0.49 if it is greater record 'yes' else record 'no'\n",
    "3. Repeat step 2 1000 times"
   ]
  },
  {
   "cell_type": "code",
   "execution_count": 113,
   "metadata": {},
   "outputs": [
    {
     "data": {
      "text/plain": [
       "0"
      ]
     },
     "execution_count": 113,
     "metadata": {},
     "output_type": "execute_result"
    }
   ],
   "source": [
    "private = [4.82, 5.29, 4.89, 4.95, 4.55, 4.90,\n",
    "5.25, 5.30, 4.29, 4.85, 4.54, 4.75, 4.85, 4.85, 4.50, 4.75,\n",
    "4.79, 4.85, 4.79, 4.95, 4.95, 4.75, 5.20, 5.10, 4.80, 4.29]\n",
    "\n",
    "monopoly = [4.65, 4.55, 4.11, 4.15, 4.20, 4.55, 3.80,\n",
    "4.00, 4.19, 4.75, 4.74, 4.50, 4.10, 4.00, 5.05, 4.20]\n",
    "\n",
    "diffs = []\n",
    "for _ in range(1000):\n",
    "    choices = np.random.choice(private + monopoly, 42, replace=False)\n",
    "    diff = np.mean(choices[:16]) - np.mean(choices[16:42])\n",
    "    diffs.append(diff)\n",
    "\n",
    "sum(np.array(diffs) > 0.49)"
   ]
  },
  {
   "cell_type": "code",
   "execution_count": 114,
   "metadata": {},
   "outputs": [
    {
     "data": {
      "text/plain": [
       "(array([  8,  29,  96, 156, 253, 216, 138,  67,  33,   4]),\n",
       " array([-0.36802885, -0.29291346, -0.21779808, -0.14268269, -0.06756731,\n",
       "         0.00754808,  0.08266346,  0.15777885,  0.23289423,  0.30800962,\n",
       "         0.383125  ]))"
      ]
     },
     "execution_count": 114,
     "metadata": {},
     "output_type": "execute_result"
    }
   ],
   "source": [
    "np.histogram(diffs)"
   ]
  },
  {
   "cell_type": "markdown",
   "metadata": {},
   "source": [
    "#### example: coumpound problem: 5 or more spades in a bridge hand, and four girls and a boy in a 5 child family\n",
    "\n",
    "1. use a bridge deck and 5 coins w/ 'heads' = girl\n",
    "2. Deal 13 card hand count the spads. If 5 or more spades record 'yes' and continue, if not record 'no' end trial\n",
    "3. Throw 5 coins count heads, if 4 heads record 'yes' otherwise record 'no'\n",
    "4. repeat 2-3 1000 times. Count proportion of 'yes' in both trials"
   ]
  },
  {
   "cell_type": "code",
   "execution_count": 126,
   "metadata": {},
   "outputs": [
    {
     "data": {
      "text/plain": [
       "0.026"
      ]
     },
     "execution_count": 126,
     "metadata": {},
     "output_type": "execute_result"
    }
   ],
   "source": [
    "deck = np.repeat([1,0], [13, 43])\n",
    "coins = np.repeat([0,1], [5,5])\n",
    "\n",
    "number_spades = np.array([np.random.choice(deck, 13, replace=False) for _ in range(1000)]).sum(1)\n",
    "greater_equal_5 = number_spades >= 5\n",
    "\n",
    "number_heads = np.array([np.random.choice(coins, 5) for _ in range(1000)]).sum(1)\n",
    "four_heads = number_heads == 4\n",
    "\n",
    "sum(np.array([greater_equal_5, four_heads]).sum(0) == 2) / 1000"
   ]
  }
 ],
 "metadata": {
  "interpreter": {
   "hash": "c1bb569c625d4b37cfbc8c3d908488d8a366196de984f18f88903c1517974552"
  },
  "kernelspec": {
   "display_name": "Python 3.8.10 64-bit ('venv': venv)",
   "language": "python",
   "name": "python3"
  },
  "language_info": {
   "codemirror_mode": {
    "name": "ipython",
    "version": 3
   },
   "file_extension": ".py",
   "mimetype": "text/x-python",
   "name": "python",
   "nbconvert_exporter": "python",
   "pygments_lexer": "ipython3",
   "version": "3.8.10"
  },
  "orig_nbformat": 4
 },
 "nbformat": 4,
 "nbformat_minor": 2
}
