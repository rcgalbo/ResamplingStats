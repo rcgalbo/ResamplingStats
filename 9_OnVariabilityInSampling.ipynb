{
 "cells": [
  {
   "attachments": {},
   "cell_type": "markdown",
   "metadata": {},
   "source": [
    "# On Variability in Sampling\n",
    "\n",
    "## Variability and small samples\n",
    "\n",
    "- Recognition of the _presence of variability in the results of small samples_\n",
    "\n",
    "## Regression to the mean\n",
    "\n",
    "Rookie of the year rarely hads an outstanding season in their sophomore year."
   ]
  },
  {
   "cell_type": "code",
   "execution_count": 1,
   "metadata": {},
   "outputs": [
    {
     "data": {
      "text/plain": [
       "'true batting average: 0.299, rookie batting average: 0.318'"
      ]
     },
     "execution_count": 1,
     "metadata": {},
     "output_type": "execute_result"
    }
   ],
   "source": [
    "import numpy as np\n",
    "\n",
    "true_p = [.270,.270,.280,.280,.300,.300,.320,.320,.330,.330]\n",
    "rookie_p = [.340,.240,.330,.300,.280,.420,.340,.350,.260,.330]\n",
    "\n",
    "true = []\n",
    "rookie = []\n",
    "for i in range(400):\n",
    "    true_average = np.random.choice(true_p)\n",
    "    rookie_average = np.random.choice(rookie_p)\n",
    "    true_at_bats = np.random.choice([0,1], 1100, p=[1-true_average,true_average])\n",
    "    rookie_at_bats = np.random.choice([0,1], 1100, p=[1-rookie_average,rookie_average])\n",
    "    true.append(true_at_bats)\n",
    "    rookie.append(rookie_at_bats)\n",
    "\n",
    "true = np.stack(true)\n",
    "rookie = np.stack(rookie)\n",
    "\n",
    "# true batting average\n",
    "tba = np.average(np.sum(true, axis=1)) / 1100\n",
    "# rookie batting average\n",
    "rba = np.average(np.sum(rookie, axis=1)) / 1100\n",
    "\n",
    "f'true batting average: {tba:.{3}}, rookie batting average: {rba:.{3}}'\n"
   ]
  }
 ],
 "metadata": {
  "kernelspec": {
   "display_name": "venv",
   "language": "python",
   "name": "python3"
  },
  "language_info": {
   "codemirror_mode": {
    "name": "ipython",
    "version": 3
   },
   "file_extension": ".py",
   "mimetype": "text/x-python",
   "name": "python",
   "nbconvert_exporter": "python",
   "pygments_lexer": "ipython3",
   "version": "3.10.6"
  },
  "orig_nbformat": 4,
  "vscode": {
   "interpreter": {
    "hash": "a2996a3ba55ff07fcda4501b00ec27d00d1c283ad923d66f87a7a38b326f7bbb"
   }
  }
 },
 "nbformat": 4,
 "nbformat_minor": 2
}
