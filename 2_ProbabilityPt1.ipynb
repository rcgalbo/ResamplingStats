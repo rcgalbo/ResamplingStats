{
 "cells": [
  {
   "cell_type": "markdown",
   "metadata": {},
   "source": [
    "## Basic Concepts in Probability and Statistics Pt. 1\n",
    "\n",
    "We use the concept of probability all the time in our daily lives especially in the face of uncertainty\n",
    "\n",
    "__Probability__ - any particular stated probability is an assertion that indicates how likely you believe it is that an event will occur\n",
    "\n",
    "2 major points of view about probability:\n",
    "\n",
    "1. _Frequency_: the probability of an event is the proportion of the times that the event has taken place in the past, based on a series of trials\n",
    "    - sometimes events occur very infrequently, making it hard to infer the proportion\n",
    "2. _Belief_: the probability that an event will occur corresponds to the odds at which you would bet the event would take place\n",
    "\n",
    "#### The \"Meaning\" of \"Probability\"\n",
    "- probability arises when you are not sure what will happen in an uncertain situation e.g. when you lack information and can only make an estimate\n",
    "- probability helps answer the question \"How likely is it that ...?\"\n",
    "- the conceptual probability in any situation is an interpretation of all the evidence that is availible\n",
    "\n",
    "__Operational Definition__ - the operational definition of a dish is it's recipie \n",
    "\n",
    "Ways of estimating probabilities:\n",
    "\n",
    "1. Experinece - collecting observational data or drawing on experince. Using past frequencies to estimate a future probability\n",
    "2. Simulated Experience - empirical trials (even if these empirical trials are simulated)\n",
    "3. Sample space analysis and first principles - counting the possibilities. have to know all the possibilities and be few enought to be able to be studied\n",
    "4. Mathematical shortcuts to sample-space analysis - can estimate probabilities if other related probabilities are known\n",
    "5. Kitchen-sink method - whatever means necessary"
   ]
  }
 ],
 "metadata": {
  "language_info": {
   "name": "python"
  },
  "orig_nbformat": 4
 },
 "nbformat": 4,
 "nbformat_minor": 2
}
