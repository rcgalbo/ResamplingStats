{
 "cells": [
  {
   "cell_type": "markdown",
   "metadata": {},
   "source": [
    "## Chapter 1: The Resampling Method of Solving Problems"
   ]
  },
  {
   "cell_type": "markdown",
   "metadata": {},
   "source": [
    "This chapter is an introduction to resampling statistics methodology. \n",
    "\n",
    "Conventional methods rely on complex formulas. This method requires understanding the problem fully then simulating a statistical model of the problem with simple intuitive techniques then estimating the probability with repeated random sampling."
   ]
  },
  {
   "cell_type": "markdown",
   "metadata": {},
   "source": [
    "__Problem:__ A construction firm owns 20 trucks. The chance any one truck will break down on any given day is about 1 in 10 based on historical data. You want to know the probability that on a particular day - tomorrow - four or more trucks will be out of action.\n",
    "\n",
    "__Procedure:__ \n",
    "\n",
    "Collect 10 coins, mark one of them. The marked coin represents \"out-of-order\" and the other nine coins represent \"in operation\". The coins represent the \"model\" of a situation where there is one-in-ten chance ($P = 0.1$ or 10%) of one particular truck being out-of-order on a given day. Next we put the coins into a little jar or urn, draw out one coin and mark down whether or not that coin is the coin marked \"out-of-order\". The drawing of the single coin from the urn represents the chance that any one truck out of the 20 trucks will be out-of-order tomorrow.\n",
    "\n",
    "Then put the drawn coin back in the urn, shake the coins up, and again draw out a coin. Then mark down if the second-drawing coin is or isn't the \"out-of-order\" coin and the outcome stands for the second truck in the fleet. This is done until 20 draws of a coin representing the 20 trucks in the fleet. The 20 draws represent a single day of operation.\n",
    "\n",
    "At the end of the twenty draws we count how many out-of-orders we got for that \"day\" checking if there were four or more out-of-orders. If there are four or more, write down \"yes\" and if not we write \"no\". All of the work up to this point represents one experimental trial for a single day.\n",
    "\n",
    "Then we repreat 50 or 100 times the full experiment described above. Each of those 50-100 trials represents a single day. When we have collected 50 or 100 experimental days, we determine the proportion of \"yes\" days, or the days with 4 or more out-of-orders. That proportion estimates the probability that four or more trucks will be out of order on a given day, the probability that we were looking for. This procedure is an example of a Monte Carlo simulation, which is central to resampling methods of statistical estimation."
   ]
  },
  {
   "cell_type": "markdown",
   "metadata": {},
   "source": [
    "### Running our first experiment in python\n",
    "\n",
    "We will be utilizing numpy a numerical library for working with matrices"
   ]
  },
  {
   "cell_type": "code",
   "execution_count": 1,
   "metadata": {},
   "outputs": [],
   "source": [
    "# import numerical python\n",
    "import numpy as np"
   ]
  },
  {
   "cell_type": "code",
   "execution_count": 2,
   "metadata": {},
   "outputs": [],
   "source": [
    "# set a random seed so that\n",
    "# the experiment results are repeatable\n",
    "np.random.seed(123)"
   ]
  },
  {
   "cell_type": "markdown",
   "metadata": {},
   "source": [
    "#### Setting up our experiment\n",
    "\n",
    "We need to create a matrix of random numbers to simulate our trucks. \n",
    "\n",
    "__Needs:__\n",
    "- We need each element to be randomly drawn with replacement from (0-9)\n",
    "- We need each row to be 20 elements long representing our 20 trucks\n",
    "- We need to have 50 rows representing 50 days of trials\n",
    "- We need to count the number of rows that have 4 or more out-of-servie (0) to get our probability \n",
    "\n",
    "Below we have a single row. The first argument says use numbers up to 10, and the second argument says make 20 choices\n"
   ]
  },
  {
   "cell_type": "code",
   "execution_count": 3,
   "metadata": {},
   "outputs": [
    {
     "data": {
      "text/plain": [
       "array([2, 2, 6, 1, 3, 9, 6, 1, 0, 1, 9, 0, 0, 9, 3, 4, 0, 0, 4, 1])"
      ]
     },
     "execution_count": 3,
     "metadata": {},
     "output_type": "execute_result"
    }
   ],
   "source": [
    "np.random.choice(10, 20) # here is one day of expriment"
   ]
  },
  {
   "cell_type": "markdown",
   "metadata": {},
   "source": [
    "In this example above there are 2 0s so this wouldn't count towards a day with 4 or more out-of-service (0s)\n",
    "\n",
    "Next we say that we want our experiment to have 50 rows represening 50 days and each row to have 20 draws represening 20 trucks"
   ]
  },
  {
   "cell_type": "code",
   "execution_count": 4,
   "metadata": {},
   "outputs": [
    {
     "name": "stdout",
     "output_type": "stream",
     "text": [
      "shape of matrix: (50, 20)\n"
     ]
    }
   ],
   "source": [
    "experiment = np.random.choice(10, (50,20))\n",
    "\n",
    "print(\"shape of matrix:\", experiment.shape)"
   ]
  },
  {
   "cell_type": "markdown",
   "metadata": {},
   "source": [
    "Now that we have our 50 x 20 matrix we need to count the number of rows with greater than or equal to 4 0s. \n",
    "\n",
    "- the statemtent `experiment == 0` creates a boolean matrix with entries `True` for every 0\n",
    "- `np.count_nonzero(experiment == 0, axis=1)` takes the sum of all the `True` elements across each row which is specified by `axis=1`  (`axis=0` would take the sum over the columns)\n",
    "\n",
    "`results` now is a length 50 array that has the number of 0s from each row of our experiment matrix. Now we just need to sum the results >= 4 and divide by 50 to get our probability"
   ]
  },
  {
   "cell_type": "code",
   "execution_count": 5,
   "metadata": {},
   "outputs": [],
   "source": [
    "results = np.count_nonzero(experiment == 0, axis=1)"
   ]
  },
  {
   "cell_type": "code",
   "execution_count": 6,
   "metadata": {},
   "outputs": [
    {
     "data": {
      "text/plain": [
       "8"
      ]
     },
     "execution_count": 6,
     "metadata": {},
     "output_type": "execute_result"
    }
   ],
   "source": [
    "# number of rows with results >= 4\n",
    "np.count_nonzero(results >= 4)"
   ]
  },
  {
   "cell_type": "markdown",
   "metadata": {},
   "source": [
    "So we got 8/50 or 16% chance that 4 or more trucks will be out-of-service on any given day"
   ]
  }
 ],
 "metadata": {
  "interpreter": {
   "hash": "c1bb569c625d4b37cfbc8c3d908488d8a366196de984f18f88903c1517974552"
  },
  "kernelspec": {
   "display_name": "Python 3.8.10 64-bit ('venv': venv)",
   "language": "python",
   "name": "python3"
  },
  "language_info": {
   "codemirror_mode": {
    "name": "ipython",
    "version": 3
   },
   "file_extension": ".py",
   "mimetype": "text/x-python",
   "name": "python",
   "nbconvert_exporter": "python",
   "pygments_lexer": "ipython3",
   "version": "3.8.10"
  },
  "orig_nbformat": 4
 },
 "nbformat": 4,
 "nbformat_minor": 2
}
