{
 "cells": [
  {
   "cell_type": "markdown",
   "metadata": {},
   "source": [
    "## Probability Theory Pt. 1\n",
    "\n",
    "This chapter is for determining the probability of sequences of simple events.\n",
    "\n",
    "Simple trials are simulated with cards, dice, random numbers or a computer program. These trials are repeated again and again to estimate the frequency of occurrence of the event we are intrested in. We can get more accurate estimate of the probability we are interested in by increasing the number of trials.\n",
    "\n",
    "In each situation the key task is designing an experiment that accurately simulates the system we are interested in.\n",
    "\n",
    "__Definitions__:\n",
    "\n",
    "_Simple Event_ - an event such as a single coin flip or one draw from a deck. A simple event can't be broken down into simpler events\n",
    "\n",
    "_Simple Probability_ - the probability that a simple event will occur\n",
    "\n",
    "_Composite Event_ - combination of two or more simple events\n",
    "\n",
    "_Compound Probability_ - the probability that a compound event will occur\n",
    "\n",
    "_Experiment_ - a simulation experiment is a randomly-generated composite event which has the same characteristics as the actual composite event that we're interested in\n",
    "\n",
    "_Parameter_ - a numerical property of a universe\n",
    "\n",
    "#### Theoritical and historical methods of estimation\n",
    "\n",
    "_Empirical methods_ 1. look for cases in nature 2. manipulate simple elements to produce hypothetical experience (resampling methods) \n",
    "\n",
    "_Theoretical Methods_ from first principals (tree diagram)\n",
    "\n",
    "This book teaches the empirical method using hypothetical cases\n",
    "\n",
    "#### Samples and universes\n",
    "\n",
    "_sample_ is a collection of observations for which you obtain data to be used in the problem\n",
    "\n",
    "for every sample there must be a universe behind it\n",
    "\n",
    "_universe_ is the complete collection of things that your sample was taken from\n",
    "\n",
    "#### Conventions of probability\n",
    "\n",
    "1. probabilities are expressed between 0 and 1\n",
    "2. probabilities of all possible outcomes in a single trial must add to 1\n",
    "\n",
    "#### Mutually exclusive events\n",
    "\n",
    "if there are two events a and b they are mutually exclusive they each imply the abscence of the other\n",
    "\n",
    "P(a and b) = 0 and P(a) + P(not a) = 1 \n",
    "\n",
    "(or P(not a) = P(b))\n",
    "\n",
    "#### Joint probabilities\n",
    "\n",
    "Have a team the skins that have a .65 chance of winning  on a nice day and .55 chance of winning on a nasty day. There is a .7 chance of a nice day\n",
    "\n",
    "__Tree Diagram:__\n",
    "\n",
    "            ----------> .65 win   = .455 probability of nice day & skins win\n",
    ".7 nice day \n",
    "\n",
    "            ----------> .35 loss\n",
    "             \n",
    "            ----------> .55 win\n",
    ".3 nasty day\n",
    "\n",
    "            ----------> .45 loss\n",
    "\n",
    "Doing a quick simulation to calculate a joint probability. The steps we follow to simulate the compound probability below:\n",
    "\n",
    "1. Put seven blue balls ('nice day') and three yellow balls into urn labeled A\n",
    "2. Draw one ball from A. If it is blue continue; otherwise record 'no' and stop\n",
    "3. If the ball drawn in step two is blue, indicating a nice day, put 65 green balls (for 'win') and 35 red balls (for 'lose') into an urn labeled B\n",
    "4. If you drew a blue ball from A, draw a ball from B. If it is green record 'yes' otherwise write 'no'\n",
    "5. Repeat steps 2-4 1000 times\n",
    "6. Count the number of 'yes'\n",
    "7. Compute the probability as (number of 'yes') / 1000"
   ]
  },
  {
   "cell_type": "code",
   "execution_count": 1,
   "metadata": {},
   "outputs": [
    {
     "data": {
      "text/plain": [
       "((10,), (100,))"
      ]
     },
     "execution_count": 1,
     "metadata": {},
     "output_type": "execute_result"
    }
   ],
   "source": [
    "import numpy as np\n",
    "np.random.seed(123)\n",
    "\n",
    "\n",
    "choices = np.array([0,1])\n",
    "urn_a = np.repeat(choices, [3,7], axis=0)\n",
    "urn_b = np.repeat(choices, [35,65], axis=0)\n",
    "\n",
    "urn_a.shape, urn_b.shape"
   ]
  },
  {
   "cell_type": "markdown",
   "metadata": {},
   "source": [
    "This is good it says our first urn contains 10 balls (3 0s and 7 1s) and our second urn contains 100 balls (35 0s and 65 1s)\n",
    "\n",
    "However our next problem is making the draws conditional on each other. Only drawing from urn b if we drew a 1 from urn a"
   ]
  },
  {
   "cell_type": "code",
   "execution_count": 2,
   "metadata": {},
   "outputs": [],
   "source": [
    "results = []\n",
    "for trial in range(1000):\n",
    "    draw1 = np.random.choice(urn_a)\n",
    "    if draw1 == 1:\n",
    "        draw2 = np.random.choice(urn_b)\n",
    "        if draw2 == 1:\n",
    "            results.append(1)"
   ]
  },
  {
   "cell_type": "markdown",
   "metadata": {},
   "source": [
    "So here we are looping over the 1000 trials. Drawing from urn a if it is 1 we draw from urn b if that is also 1 we append to our results list. So to calculate our probability we take the lenght of our results array and divide by 1000"
   ]
  },
  {
   "cell_type": "code",
   "execution_count": 3,
   "metadata": {},
   "outputs": [
    {
     "data": {
      "text/plain": [
       "0.459"
      ]
     },
     "execution_count": 3,
     "metadata": {},
     "output_type": "execute_result"
    }
   ],
   "source": [
    "len(results) / 1000"
   ]
  },
  {
   "cell_type": "markdown",
   "metadata": {},
   "source": [
    "There we have it we knew our probability was supposed to be .455 a priori and it ended up being .46 which is very close. If we wanted to get a more exact measure that is closer to .455 we could to 5k trials or 10k trials to improve our accuracy"
   ]
  },
  {
   "cell_type": "markdown",
   "metadata": {},
   "source": [
    "NOTE: there is an error in the text book where he uses a different urn for b and gets a different outcome. We did it right!"
   ]
  },
  {
   "cell_type": "markdown",
   "metadata": {},
   "source": [
    "Another way to solve this problem without looping is to draw 1000 times from urn a and 1000 times from urn b and to see the number of times both were 1. if we add the rows together it would be where our array is equal to 2"
   ]
  },
  {
   "cell_type": "code",
   "execution_count": 4,
   "metadata": {},
   "outputs": [
    {
     "data": {
      "text/plain": [
       "0.471"
      ]
     },
     "execution_count": 4,
     "metadata": {},
     "output_type": "execute_result"
    }
   ],
   "source": [
    "draws_urn_a = np.random.choice(urn_a, 1000)\n",
    "draws_urn_b = np.random.choice(urn_b, 1000)\n",
    "\n",
    "draws = draws_urn_a + draws_urn_b\n",
    "\n",
    "sum(draws == 2) / 1000"
   ]
  },
  {
   "cell_type": "markdown",
   "metadata": {},
   "source": [
    "#### Multiplication rule:\n",
    "\n",
    "P(nice day and win) = P(nice day) * P(win| nice day)\n",
    "\n",
    "here the vertical line indicates a \"conditional probability\" that can be read as \"probability of a win given a nice day\"\n",
    "\n",
    "#### Conditional and unconditional probabilities\n",
    "\n",
    "two kinds of probability statement - conditional and unconditional\n",
    "\n",
    "conditional probability is a statemtent about probability of an event if something else happens. it is the if that makes the probability statment conditional\n",
    "\n",
    "all hypothesis testing is conditional probability\n",
    "\n",
    "__example__: 4 cards; 2 red 2 black. shuffle then pick 2 at random what is the probability the cards are the same?\n",
    "\n",
    "1. put numbers 0,0,1,1 in a an array\n",
    "2. shuffle slips of paper\n",
    "3. take the first number \n",
    "4. take the second number \n",
    "5. subtract the numbers, if the result is 0 record yes otherwise record no\n",
    "6. repeat (1-5) 1000 times count proportion of yes"
   ]
  },
  {
   "cell_type": "code",
   "execution_count": 26,
   "metadata": {},
   "outputs": [
    {
     "data": {
      "text/plain": [
       "0.336"
      ]
     },
     "execution_count": 26,
     "metadata": {},
     "output_type": "execute_result"
    }
   ],
   "source": [
    "deck = np.repeat(choices, [2,2]) # build our deck\n",
    "\n",
    "# choose 2 cards without replacement 1000 times then stack the results\n",
    "draws = np.stack([np.random.choice(deck, 2, replace=False) for _ in range(1000)])\n",
    "\n",
    "# subtract the first draw from the second draw \n",
    "# sum where they're equal to 0\n",
    "sum(draws[:,0] - draws[:,1] == 0) / 1000"
   ]
  },
  {
   "cell_type": "markdown",
   "metadata": {},
   "source": [
    "Now lets do the same game but replace the first card before drawing a second card"
   ]
  },
  {
   "cell_type": "code",
   "execution_count": 27,
   "metadata": {},
   "outputs": [
    {
     "data": {
      "text/plain": [
       "0.524"
      ]
     },
     "execution_count": 27,
     "metadata": {},
     "output_type": "execute_result"
    }
   ],
   "source": [
    "# now set replacement to True\n",
    "draws = np.stack([np.random.choice(deck, 2, replace=True) for _ in range(1000)])\n",
    "\n",
    "# still subtract first draw from second draw\n",
    "# sum where they are equal to 0\n",
    "sum(draws[:,0] - draws[:,1] == 0) / 1000"
   ]
  },
  {
   "cell_type": "markdown",
   "metadata": {},
   "source": [
    "In the first case if you pick a black card, the probability of picking another black card is 1/3 because there is 1 black card and 2 red cards left.\n",
    "\n",
    "In the second game the probability of picking a second black card is .5 beacause the first card is replaced.\n",
    "\n",
    "The provavility of picking a second black card is conditional on picking a first balck card that is different from the unconditional probability of picking the black card first"
   ]
  },
  {
   "cell_type": "markdown",
   "metadata": {},
   "source": [
    "Simulation is weak for very low probabilities but statistics and probability rarely concerned with very small probabilities\n",
    "\n",
    "The multiplication rule is helpful for quick calculations, which can be quicker than simulation"
   ]
  }
 ],
 "metadata": {
  "interpreter": {
   "hash": "c1bb569c625d4b37cfbc8c3d908488d8a366196de984f18f88903c1517974552"
  },
  "kernelspec": {
   "display_name": "Python 3.8.10 64-bit ('venv': venv)",
   "language": "python",
   "name": "python3"
  },
  "language_info": {
   "codemirror_mode": {
    "name": "ipython",
    "version": 3
   },
   "file_extension": ".py",
   "mimetype": "text/x-python",
   "name": "python",
   "nbconvert_exporter": "python",
   "pygments_lexer": "ipython3",
   "version": "3.8.10"
  },
  "orig_nbformat": 4
 },
 "nbformat": 4,
 "nbformat_minor": 2
}
