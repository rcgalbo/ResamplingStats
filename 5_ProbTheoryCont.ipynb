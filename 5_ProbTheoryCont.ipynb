{
 "cells": [
  {
   "cell_type": "markdown",
   "metadata": {},
   "source": [
    "## Probability Theory Pt.1 Continued\n",
    "\n",
    "#### special case of independence\n",
    "\n",
    "two events are independent when one doesn't have any relationshio to the other\n",
    "\n",
    "the probability of getting a head on one flip or 5 flips is the same because each flip is independent and doesnt influence the next flip \"the coin has no memory\"\n",
    "\n",
    "independence meand elements are drawn from 2 or more separate sets of possibilities P(a|b) = P(a|not b) = P(a)\n",
    "\n",
    "if the probability of the first event doesnt change the probability that the second event will occur then the events are _independent_\n",
    "\n",
    "P(a and b) = P(a) * P(b) if events are independent\n",
    "\n",
    "P(a and b) = P(a|b) * p(b) if events are not independent\n",
    "\n",
    "#### example: four events in a row - the multiplication rule\n",
    "\n",
    "probability of four sucessful archery shots with probability of a success shot .25?\n",
    "\n",
    "probability of 4 successful archery shots: 1/4 ^ 4 = 1/256\n",
    "\n",
    "\n",
    "Probability of 3 successful basketball shots when a shot p = 1/3?\n",
    " \n",
    "(1/3 * 1/3 * 1/3 = 1/27)"
   ]
  },
  {
   "cell_type": "markdown",
   "metadata": {},
   "source": [
    "#### addition of probabilities\n",
    "\n",
    "football game:\n",
    "\n",
    "probability of snow .1 probability of rain .2 probability of nice day .7\n",
    "\n",
    "what is the probability of a rainy day _or_ a nice day?\n",
    "\n",
    "1. Put 7 blue balls (nice day), 1 black ball (snow day), and 2 gray balls (rain day) into an urn. \n",
    "2. Draw 1 ball and record 'yes' if it is blue or gray, 'no' otherwise'\n",
    "3. Repeat step 2 200 times\n",
    "4. Find proportion of 'yes'"
   ]
  },
  {
   "cell_type": "code",
   "execution_count": 9,
   "metadata": {},
   "outputs": [
    {
     "data": {
      "text/plain": [
       "0.885"
      ]
     },
     "execution_count": 9,
     "metadata": {},
     "output_type": "execute_result"
    }
   ],
   "source": [
    "import numpy as np\n",
    "np.random.seed(123)\n",
    "\n",
    "# create urn\n",
    "choices = np.array([0,1,2])\n",
    "urn = np.repeat(choices, [7,1,2], axis=0)\n",
    "\n",
    "# make 200 draws\n",
    "draws = np.random.choice(urn, 200)\n",
    "\n",
    "# count the number of 0 or 2 that came up\n",
    "zero_draws = sum(draws == 0) \n",
    "two_draws = sum(draws == 2)\n",
    "\n",
    "# get the proportion of 0 or 2\n",
    "(zero_draws + two_draws) / 200"
   ]
  },
  {
   "cell_type": "markdown",
   "metadata": {},
   "source": [
    "#### the addition rule\n",
    "\n",
    "applies to mutually exclusive outcomes\n",
    "\n",
    "if there are only two possible mutually exclusive outcomes the outcomes are _complimentary_\n",
    "\n",
    "mutually exclusive means total dependence; if one occurs, the other cannot\n",
    "\n",
    "if p(a and b) = 0\n",
    "P(a or b) = P(a) + P(b)\n",
    "\n",
    "also P(a) + P(not a) = 1\n",
    "\n",
    "when not mutually exclusive:\n",
    "P(a or b) = P(a) + P(b) - P(a and b)\n",
    "\n",
    "the addition rule is like one draw with two or more possible cards of interest where the multiplication rule id like two or more cards being drawn with one particular 'hand' of interest\n",
    "\n",
    "#### theoretical devides for the study of probability\n",
    "\n",
    "a tree is the most basic display of the paths in a given situation. each branch of the tree a unique path contains the sequence of all the elements that make up that event in the order that they occur\n",
    "\n",
    "#### concept of a sample space\n",
    "\n",
    "sample space is the set of all possible outcomes of the \"experiment\" that interests us\n",
    "\n",
    "each element of sample space S denotes an outcome of the experiment and each outcome of the experiment correstponds to a single element of S\n",
    "\n",
    "the sum of all the outcomes of the experiment is 1 so the sum of the events in the sample space is also 1z"
   ]
  }
 ],
 "metadata": {
  "interpreter": {
   "hash": "c1bb569c625d4b37cfbc8c3d908488d8a366196de984f18f88903c1517974552"
  },
  "kernelspec": {
   "display_name": "Python 3.8.10 64-bit ('venv': venv)",
   "language": "python",
   "name": "python3"
  },
  "language_info": {
   "codemirror_mode": {
    "name": "ipython",
    "version": 3
   },
   "file_extension": ".py",
   "mimetype": "text/x-python",
   "name": "python",
   "nbconvert_exporter": "python",
   "pygments_lexer": "ipython3",
   "version": "3.8.10"
  },
  "orig_nbformat": 4
 },
 "nbformat": 4,
 "nbformat_minor": 2
}
